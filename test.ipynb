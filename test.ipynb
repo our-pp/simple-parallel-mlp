{
 "cells": [
  {
   "cell_type": "code",
   "execution_count": 182,
   "metadata": {},
   "outputs": [
    {
     "name": "stdout",
     "output_type": "stream",
     "text": [
      "make -C src/singleThread\n",
      "make[1]: 進入目錄「/home/PP/PP-final/experiment/src/singleThread」\n",
      "make[1]: 對「all」無需做任何事。\n",
      "make[1]: 離開目錄「/home/PP/PP-final/experiment/src/singleThread」\n",
      "make -C src/cuda\n",
      "make[1]: 進入目錄「/home/PP/PP-final/experiment/src/cuda」\n",
      "make[1]: 對「all」無需做任何事。\n",
      "make[1]: 離開目錄「/home/PP/PP-final/experiment/src/cuda」\n",
      "make -C src/cuda-padding\n",
      "make[1]: 進入目錄「/home/PP/PP-final/experiment/src/cuda-padding」\n",
      "make[1]: 對「all」無需做任何事。\n",
      "make[1]: 離開目錄「/home/PP/PP-final/experiment/src/cuda-padding」\n",
      "make -C src/openmp\n",
      "make[1]: 進入目錄「/home/PP/PP-final/experiment/src/openmp」\n",
      "make[1]: 對「all」無需做任何事。\n",
      "make[1]: 離開目錄「/home/PP/PP-final/experiment/src/openmp」\n",
      "make -C src\n",
      "make[1]: 進入目錄「/home/PP/PP-final/experiment/src」\n",
      "make[1]: 對「all」無需做任何事。\n",
      "make[1]: 離開目錄「/home/PP/PP-final/experiment/src」\n",
      "train size: 60000\n"
     ]
    },
    {
     "name": "stderr",
     "output_type": "stream",
     "text": [
      "  0%|          | 0/27 [00:00<?, ?it/s]"
     ]
    },
    {
     "name": "stdout",
     "output_type": "stream",
     "text": [
      "1 Load 60000 training data\n",
      "Epoch 1: Loss: 0.361070, accuracy: 0.000000\n",
      "Epoch 2: Loss: 0.342203, accuracy: 0.000000\n",
      "Epoch 3: Loss: 0.279311, accuracy: 0.000000\n",
      "time: 36.5965 sec\n",
      "\n"
     ]
    },
    {
     "name": "stderr",
     "output_type": "stream",
     "text": [
      "  4%|▎         | 1/27 [01:51<48:07, 111.07s/it]"
     ]
    },
    {
     "name": "stdout",
     "output_type": "stream",
     "text": [
      "2 Load 60000 training data\n",
      "Epoch 1: Loss: 0.369465, accuracy: 0.000000\n",
      "Epoch 2: Loss: 0.368863, accuracy: 0.000000\n",
      "Epoch 3: Loss: 0.368821, accuracy: 0.000000\n",
      "time: 18.3481 sec\n",
      "\n"
     ]
    },
    {
     "name": "stderr",
     "output_type": "stream",
     "text": [
      "  7%|▋         | 2/27 [02:47<32:52, 78.91s/it] "
     ]
    },
    {
     "name": "stdout",
     "output_type": "stream",
     "text": [
      "4 Load 60000 training data\n",
      "Epoch 1: Loss: 0.578559, accuracy: 0.000000\n",
      "Epoch 2: Loss: 0.578659, accuracy: 0.000000\n",
      "Epoch 3: Loss: 0.578400, accuracy: 0.000000\n",
      "time: 9.3255 sec\n",
      "\n"
     ]
    },
    {
     "name": "stderr",
     "output_type": "stream",
     "text": [
      " 11%|█         | 3/27 [03:16<22:29, 56.22s/it]"
     ]
    },
    {
     "name": "stdout",
     "output_type": "stream",
     "text": [
      "6 Load 60000 training data\n",
      "Epoch 1: Loss: 0.409525, accuracy: 0.000000\n",
      "Epoch 2: Loss: 0.408706, accuracy: 0.000000\n",
      "Epoch 3: Loss: 0.409224, accuracy: 0.000000\n",
      "time: 6.4342 sec\n",
      "\n"
     ]
    },
    {
     "name": "stderr",
     "output_type": "stream",
     "text": [
      " 15%|█▍        | 4/27 [03:37<16:09, 42.14s/it]"
     ]
    },
    {
     "name": "stdout",
     "output_type": "stream",
     "text": [
      "8 Load 60000 training data\n",
      "Epoch 1: Loss: 0.467633, accuracy: 0.000000\n",
      "Epoch 2: Loss: 0.466663, accuracy: 0.000000\n",
      "Epoch 3: Loss: 0.466816, accuracy: 0.000000\n",
      "time: 5.1175 sec\n",
      "\n"
     ]
    },
    {
     "name": "stderr",
     "output_type": "stream",
     "text": [
      " 19%|█▊        | 5/27 [03:53<12:05, 32.97s/it]"
     ]
    },
    {
     "name": "stdout",
     "output_type": "stream",
     "text": [
      "10 Load 60000 training data\n",
      "Epoch 1: Loss: 0.549860, accuracy: 0.000000\n",
      "Epoch 2: Loss: 0.547854, accuracy: 0.000000\n",
      "Epoch 3: Loss: 0.548724, accuracy: 0.000000\n",
      "time: 4.4826 sec\n",
      "\n"
     ]
    },
    {
     "name": "stderr",
     "output_type": "stream",
     "text": [
      " 22%|██▏       | 6/27 [04:08<09:21, 26.75s/it]"
     ]
    },
    {
     "name": "stdout",
     "output_type": "stream",
     "text": [
      "12 Load 60000 training data\n",
      "Epoch 1: Loss: 0.445192, accuracy: 0.000000\n",
      "Epoch 2: Loss: 0.445579, accuracy: 0.000000\n",
      "Epoch 3: Loss: 0.446517, accuracy: 0.000000\n",
      "time: 4.0562 sec\n",
      "\n"
     ]
    },
    {
     "name": "stderr",
     "output_type": "stream",
     "text": [
      " 26%|██▌       | 7/27 [04:22<07:27, 22.39s/it]"
     ]
    },
    {
     "name": "stdout",
     "output_type": "stream",
     "text": [
      "14 Load 60000 training data\n",
      "Epoch 1: Loss: 0.491176, accuracy: 0.000000\n",
      "Epoch 2: Loss: 0.492058, accuracy: 0.000000\n",
      "Epoch 3: Loss: 0.491351, accuracy: 0.000000\n",
      "time: 3.7739 sec\n",
      "\n"
     ]
    },
    {
     "name": "stderr",
     "output_type": "stream",
     "text": [
      " 30%|██▉       | 8/27 [04:34<06:06, 19.27s/it]"
     ]
    },
    {
     "name": "stdout",
     "output_type": "stream",
     "text": [
      "16 Load 60000 training data\n",
      "Epoch 1: Loss: 0.508301, accuracy: 0.000000\n",
      "Epoch 2: Loss: 0.508663, accuracy: 0.000000\n",
      "Epoch 3: Loss: 0.509029, accuracy: 0.000000\n",
      "time: 3.5494 sec\n",
      "\n"
     ]
    },
    {
     "name": "stderr",
     "output_type": "stream",
     "text": [
      " 33%|███▎      | 9/27 [04:46<05:05, 16.96s/it]"
     ]
    },
    {
     "name": "stdout",
     "output_type": "stream",
     "text": [
      "32 Load 60000 training data\n",
      "Epoch 1: Loss: 0.588720, accuracy: 0.000000\n",
      "Epoch 2: Loss: 0.587681, accuracy: 0.000000\n",
      "Epoch 3: Loss: 0.587017, accuracy: 0.000000\n",
      "time: 3.7982 sec\n",
      "\n"
     ]
    },
    {
     "name": "stderr",
     "output_type": "stream",
     "text": [
      " 37%|███▋      | 10/27 [04:59<04:25, 15.63s/it]"
     ]
    },
    {
     "name": "stdout",
     "output_type": "stream",
     "text": [
      "64 Load 60000 training data\n",
      "Epoch 1: Loss: 0.374132, accuracy: 0.000000\n",
      "Epoch 2: Loss: 0.373700, accuracy: 0.000000\n",
      "Epoch 3: Loss: 0.373258, accuracy: 0.000000\n",
      "time: 2.5433 sec\n",
      "\n"
     ]
    },
    {
     "name": "stderr",
     "output_type": "stream",
     "text": [
      " 41%|████      | 11/27 [05:08<03:36, 13.56s/it]"
     ]
    },
    {
     "name": "stdout",
     "output_type": "stream",
     "text": [
      "128 Load 60000 training data\n",
      "Epoch 1: Loss: 0.657509, accuracy: 0.000000\n",
      "Epoch 2: Loss: 0.658012, accuracy: 0.000000\n",
      "Epoch 3: Loss: 0.658314, accuracy: 0.000000\n",
      "time: 1.9410 sec\n",
      "\n"
     ]
    },
    {
     "name": "stderr",
     "output_type": "stream",
     "text": [
      " 44%|████▍     | 12/27 [05:15<02:53, 11.59s/it]"
     ]
    },
    {
     "name": "stdout",
     "output_type": "stream",
     "text": [
      "256 Load 60000 training data\n",
      "Epoch 1: Loss: 0.579209, accuracy: 0.000000\n",
      "Epoch 2: Loss: 0.579640, accuracy: 0.000000\n",
      "Epoch 3: Loss: 0.579648, accuracy: 0.000000\n",
      "time: 1.7349 sec\n",
      "\n"
     ]
    },
    {
     "name": "stderr",
     "output_type": "stream",
     "text": [
      " 48%|████▊     | 13/27 [05:21<02:20, 10.03s/it]"
     ]
    },
    {
     "name": "stdout",
     "output_type": "stream",
     "text": [
      "512 Load 60000 training data\n",
      "Epoch 1: Loss: 0.641474, accuracy: 0.000000\n",
      "Epoch 2: Loss: 0.642177, accuracy: 0.000000\n",
      "Epoch 3: Loss: 0.642647, accuracy: 0.000000\n",
      "time: 1.4913 sec\n",
      "\n"
     ]
    },
    {
     "name": "stderr",
     "output_type": "stream",
     "text": [
      " 52%|█████▏    | 14/27 [05:27<01:53,  8.76s/it]"
     ]
    },
    {
     "name": "stdout",
     "output_type": "stream",
     "text": [
      "768 Load 60000 training data\n",
      "Epoch 1: Loss: 0.574539, accuracy: 0.000000\n",
      "Epoch 2: Loss: 0.576865, accuracy: 0.000000\n",
      "Epoch 3: Loss: 0.576481, accuracy: 0.000000\n",
      "time: 1.4046 sec\n",
      "\n"
     ]
    },
    {
     "name": "stderr",
     "output_type": "stream",
     "text": [
      " 56%|█████▌    | 15/27 [05:32<01:33,  7.80s/it]"
     ]
    },
    {
     "name": "stdout",
     "output_type": "stream",
     "text": [
      "896 Load 60000 training data\n",
      "Epoch 1: Loss: 0.662328, accuracy: 0.000000\n",
      "Epoch 2: Loss: 0.659918, accuracy: 0.000000\n",
      "Epoch 3: Loss: 0.659918, accuracy: 0.000000\n",
      "time: 1.3612 sec\n",
      "\n"
     ]
    },
    {
     "name": "stderr",
     "output_type": "stream",
     "text": [
      " 59%|█████▉    | 16/27 [05:38<01:17,  7.06s/it]"
     ]
    },
    {
     "name": "stdout",
     "output_type": "stream",
     "text": [
      "1024 Load 60000 training data\n",
      "Epoch 1: Loss: 0.422624, accuracy: 0.000000\n",
      "Epoch 2: Loss: 0.419919, accuracy: 0.000000\n",
      "Epoch 3: Loss: 0.419919, accuracy: 0.000000\n",
      "time: 1.3520 sec\n",
      "\n"
     ]
    },
    {
     "name": "stderr",
     "output_type": "stream",
     "text": [
      " 63%|██████▎   | 17/27 [05:43<01:05,  6.53s/it]"
     ]
    },
    {
     "name": "stdout",
     "output_type": "stream",
     "text": [
      "1280 Load 60000 training data\n",
      "Epoch 1: Loss: 0.581130, accuracy: 0.000000\n",
      "Epoch 2: Loss: 0.581244, accuracy: 0.000000\n",
      "Epoch 3: Loss: 0.581243, accuracy: 0.000000\n",
      "time: 1.3340 sec\n",
      "\n"
     ]
    },
    {
     "name": "stderr",
     "output_type": "stream",
     "text": [
      " 67%|██████▋   | 18/27 [05:48<00:55,  6.14s/it]"
     ]
    },
    {
     "name": "stdout",
     "output_type": "stream",
     "text": [
      "1536 Load 60000 training data\n",
      "Epoch 1: Loss: 0.577232, accuracy: 0.000000\n",
      "Epoch 2: Loss: 0.578691, accuracy: 0.000000\n",
      "Epoch 3: Loss: 0.578075, accuracy: 0.000000\n",
      "time: 1.3655 sec\n",
      "\n"
     ]
    },
    {
     "name": "stderr",
     "output_type": "stream",
     "text": [
      " 70%|███████   | 19/27 [05:54<00:47,  5.90s/it]"
     ]
    },
    {
     "name": "stdout",
     "output_type": "stream",
     "text": [
      "2048 Load 60000 training data\n",
      "Epoch 1: Loss: 0.421266, accuracy: 0.000000\n",
      "Epoch 2: Loss: 0.418525, accuracy: 0.000000\n",
      "Epoch 3: Loss: 0.418528, accuracy: 0.000000\n",
      "time: 1.3565 sec\n",
      "\n"
     ]
    },
    {
     "name": "stderr",
     "output_type": "stream",
     "text": [
      " 74%|███████▍  | 20/27 [05:59<00:40,  5.72s/it]"
     ]
    },
    {
     "name": "stdout",
     "output_type": "stream",
     "text": [
      "4096 Load 60000 training data\n",
      "Epoch 1: Loss: 0.500151, accuracy: 0.000000\n",
      "Epoch 2: Loss: 0.500310, accuracy: 0.000000\n",
      "Epoch 3: Loss: 0.500310, accuracy: 0.000000\n",
      "time: 1.3517 sec\n",
      "\n"
     ]
    },
    {
     "name": "stderr",
     "output_type": "stream",
     "text": [
      " 78%|███████▊  | 21/27 [06:04<00:33,  5.60s/it]"
     ]
    },
    {
     "name": "stdout",
     "output_type": "stream",
     "text": [
      "6144 Load 60000 training data\n",
      "Epoch 1: Loss: 0.000000, accuracy: 0.000000\n",
      "Epoch 2: Loss: 0.000000, accuracy: 0.000000\n",
      "Epoch 3: Loss: 0.000000, accuracy: 0.000000\n",
      "time: 0.0184 sec\n",
      "\n"
     ]
    },
    {
     "name": "stderr",
     "output_type": "stream",
     "text": [
      " 81%|████████▏ | 22/27 [06:06<00:21,  4.31s/it]"
     ]
    },
    {
     "name": "stdout",
     "output_type": "stream",
     "text": [
      "8192 Load 60000 training data\n",
      "Epoch 1: Loss: 0.578199, accuracy: 0.000000\n",
      "Epoch 2: Loss: 0.578199, accuracy: 0.000000\n",
      "Epoch 3: Loss: 0.578199, accuracy: 0.000000\n",
      "time: 1.3534 sec\n",
      "\n"
     ]
    },
    {
     "name": "stderr",
     "output_type": "stream",
     "text": [
      " 85%|████████▌ | 23/27 [06:11<00:18,  4.61s/it]"
     ]
    },
    {
     "name": "stdout",
     "output_type": "stream",
     "text": [
      "10240 Load 60000 training data\n",
      "Epoch 1: Loss: 0.000000, accuracy: 0.000000\n",
      "Epoch 2: Loss: 0.000000, accuracy: 0.000000\n",
      "Epoch 3: Loss: 0.000000, accuracy: 0.000000\n",
      "time: 0.0263 sec\n",
      "\n"
     ]
    },
    {
     "name": "stderr",
     "output_type": "stream",
     "text": [
      " 89%|████████▉ | 24/27 [06:12<00:10,  3.62s/it]"
     ]
    },
    {
     "name": "stdout",
     "output_type": "stream",
     "text": [
      "12288 Load 60000 training data\n",
      "Epoch 1: Loss: 0.000000, accuracy: 0.000000\n",
      "Epoch 2: Loss: 0.000000, accuracy: 0.000000\n",
      "Epoch 3: Loss: 0.000000, accuracy: 0.000000\n",
      "time: 0.0321 sec\n",
      "\n"
     ]
    },
    {
     "name": "stderr",
     "output_type": "stream",
     "text": [
      " 93%|█████████▎| 25/27 [06:14<00:05,  2.93s/it]"
     ]
    },
    {
     "name": "stdout",
     "output_type": "stream",
     "text": [
      "14336 Load 60000 training data\n",
      "Epoch 1: Loss: 0.000000, accuracy: 0.000000\n",
      "Epoch 2: Loss: 0.000000, accuracy: 0.000000\n",
      "Epoch 3: Loss: 0.000000, accuracy: 0.000000\n",
      "time: 0.0343 sec\n",
      "\n"
     ]
    },
    {
     "name": "stderr",
     "output_type": "stream",
     "text": [
      " 96%|█████████▋| 26/27 [06:15<00:02,  2.46s/it]"
     ]
    },
    {
     "name": "stdout",
     "output_type": "stream",
     "text": [
      "16384 Load 60000 training data\n",
      "Epoch 1: Loss: 0.000000, accuracy: 0.000000\n",
      "Epoch 2: Loss: 0.000000, accuracy: 0.000000\n",
      "Epoch 3: Loss: 0.000000, accuracy: 0.000000\n",
      "time: 0.0389 sec\n",
      "\n"
     ]
    },
    {
     "name": "stderr",
     "output_type": "stream",
     "text": [
      "100%|██████████| 27/27 [06:16<00:00, 13.96s/it]\n"
     ]
    }
   ],
   "source": [
    "import os, time\n",
    "import matplotlib.pyplot as plt\n",
    "from tqdm import tqdm\n",
    "\n",
    "# batch_size = [32, 64, 128, 256, 512, 1024, 2048, 4096, 4096+2048, 8192, 8192+2048, 8192+4096, 8192+4096+2048, 16384]\n",
    "batch_size = [16, 32, 64, 128]\n",
    "batch_size = [1, 2, 4, 6, 8, 10, 12, 14, 16, 32, 64, 128, 256, 512, 768, 896, 1024, 1280, 1536, 2048, 4096, 4096+2048, 8192, 8192+2048, 8192+4096, 8192+4096+2048, 16384]\n",
    "# batch_size = [32, 64, 128, 256, 512, 1024, 2048, 4096, 6144, 8192, 10240, 12288, 14336, 16384]\n",
    "# batch_size = [1, 2, 4, 6, 8, 10, 12, 14, 16]\n",
    "# batch_size = [512, 512+256, 512+256+128, 1024, 1024+256, 1024+512, 2048, 4096]\n",
    "# batch_size = [4096, 4096+512, 4096+1024, 4096+1024+512, 4096+2048, 4096+2048+512, 4096+2048+1024, 4096+2048+1024+512, 6144]\n",
    "# batch_size = range(1, 17)\n",
    "# batch_size = [1, 2, 4, 6, 8, 10, 12, 14, 16, 32, 64, 128]\n",
    "# batch_size = [1, 2, 4, 6, 8, 10, 12, 14, 16]\n",
    "# batch_size = [1, 2, 4, 6, 8, 10, 12, 14, 16]\n",
    "# hidden_dim = [2, 4, 6, 8, 50, 100, 200, 300, 400]\n",
    "hidden_dim = [2, 4, 6, 8, 50, 100, 200, 300, 400, 500, 600, 800]\n",
    "\n",
    "train_size = [60000]\n",
    "y1, y2 = [], []\n",
    "\n",
    "def iter_batch(method) -> None:\n",
    "    for train in train_size:\n",
    "        print(f'train size: {train}')\n",
    "        for batch in tqdm(batch_size):\n",
    "            sec = os.popen(f'echo -1 | ./bin/{method} -b {batch} -h 1000 -t {train}').read()\n",
    "            print(batch, sec)\n",
    "            y1.append(float(sec.splitlines()[-1].split()[1]))\n",
    "            time.sleep(1)\n",
    "\n",
    "def iter_hidden(method) -> None:\n",
    "    for train in train_size:\n",
    "        print(f'train size: {train}')\n",
    "        for hidden in tqdm(hidden_dim):\n",
    "            sec = os.popen(f'echo -1 | ./bin/{method} -b 1024 -h {hidden} -t {train}').read()\n",
    "            print(hidden, sec)\n",
    "            y2.append(float(sec.splitlines()[-1].split()[1]))\n",
    "            time.sleep(1)\n",
    "\n",
    "method = 'cuda-padding'\n",
    "# method = 'cuda'\n",
    "def main() -> None:\n",
    "    os.system('make')\n",
    "    y1, y2 = [], []\n",
    "    iter_batch(method)\n",
    "    # iter_hidden(method)\n",
    "\n",
    "main()"
   ]
  },
  {
   "cell_type": "code",
   "execution_count": null,
   "metadata": {},
   "outputs": [],
   "source": []
  },
  {
   "cell_type": "code",
   "execution_count": 185,
   "metadata": {},
   "outputs": [
    {
     "name": "stdout",
     "output_type": "stream",
     "text": [
      "[1, 2, 4, 6, 8, 10, 12, 14, 16, 32, 64, 128, 256, 512, 768, 896, 1024, 1280, 1536, 2048, 4096, 6144, 8192, 10240, 12288, 14336, 16384]\n",
      "[36.5965, 18.3481, 9.3255, 6.4342, 5.1175, 4.4826, 4.0562, 3.7739, 3.5494, 3.7982, 2.5433, 1.941, 1.7349, 1.4913, 1.4046, 1.3612, 1.352, 1.334, 1.3655, 1.3565, 1.3517, 0.0184, 1.3534, 0.0263, 0.0321, 0.0343, 0.0389]\n",
      "[14.9933, 7.5855, 3.8487, 2.6167, 1.9991, 1.7072, 1.6173, 1.5821, 1.8212, 2.0742, 1.0502, 0.5828, 0.4941, 0.4736, 0.4615, 0.4897, 0.4577, 0.4546, 0.4614, 0.4513, 0.4386]\n",
      "[1, 2, 4, 6, 8, 10, 12, 14, 16, 32, 64, 128, 256, 512, 768, 896, 1024, 1280, 1536, 2048, 4096]\n"
     ]
    },
    {
     "data": {
      "image/png": "[encoded data removed]",
      "text/plain": [
       "<Figure size 640x480 with 1 Axes>"
      ]
     },
     "metadata": {},
     "output_type": "display_data"
    }
   ],
   "source": [
    "x = batch_size\n",
    "# x = hidden_dim\n",
    "tmp = list(map(float, y1))\n",
    "# tmp = list(map(float, y2))\n",
    "print(x)\n",
    "print(tmp)\n",
    "# tmp\n",
    "y_single = [8.2914, 6.8104, 6.2942, 5.8287, 5.6881, 5.6232, 5.5838, 5.5464, 5.4985]\n",
    "y_openmp = [13.2646, 7.1864, 4.0325, 3.2439, 2.4958, 2.2116, 2.1367, 2.1544, 2.0634]\n",
    "y_cuda = [14.7442, 7.2573, 3.7575, 2.5298, 1.9832, 1.8857, 1.7688, 1.6317, 1.5852, 1.4055, 1.0349, 0.5631, 0.5185, 0.4656, 0.458, 0.4546, 0.4422, 0.4441, 0.4451, 0.4433, 0.4441, 0.4438, 0.4433]\n",
    "x_batch_cuda = [1, 2, 4, 6, 8, 10, 12, 14, 16, 32, 64, 128, 256, 512, 1024, 2048, 4096, 6144, 8192, 10240, 12288, 14336, 16384]\n",
    "# y_cuda_compare = [1.4055, 1.0349, 0.5631, 0.5185, 0.4656, 0.458, 0.4546, 0.4422, 0.4441, 0.4451, 0.4433, 0.4441, 0.4438, 0.4433]\n",
    "y_cuda_compare = [2.0395, 1.0342, 0.5516, 0.5098, 0.4708, 0.4546, 0.4502, 0.4382, 0.4408, 0.441, 0.4382, 0.4389, 0.4387, 0.4385]\n",
    "x_batch_cuda_compare = [32, 64, 128, 256, 512, 1024, 2048, 4096, 6144, 8192, 10240, 12288, 14336, 16384]\n",
    "\n",
    "y_cuda_padding = [14.9933, 7.5855, 3.8487, 2.6167, 1.9991, 1.7072, 1.6173, 1.5821, 1.8212, 2.0742, 1.0502, 0.5828, 0.4941, 0.4736, 0.4615, 0.4897, 0.4577, 0.4546, 0.4614, 0.4513, 0.4386]\n",
    "x_cuda_padding = [1, 2, 4, 6, 8, 10, 12, 14, 16, 32, 64, 128, 256, 512, 768, 896, 1024, 1280, 1536, 2048, 4096]\n",
    "\n",
    "print(y_cuda_padding)\n",
    "print(x_cuda_padding)\n",
    "\n",
    "x_hidden = hidden_dim\n",
    "y2_single = [0.0438, 0.0779, 0.234, 0.1486, 0.8892, 1.7812, 3.6052, 5.322, 7.137, 8.8835, 10.6876, 17.4514]\n",
    "y2_openmp = [0.0391, 0.0282, 0.037, 0.0467, 0.2729, 0.543, 1.0915, 1.5711, 2.0041, 2.5293, 3.031, 3.9712]\n",
    "y2_cuda = [0.0231, 0.0267, 0.0283, 0.0311, 0.1165, 0.2206, 0.3348, 0.456, 0.5851, 0.7242, 0.915, 1.2584]\n",
    "\n",
    "title = 'Batch Size'\n",
    "# title = 'Hidden Dimension'\n",
    "x_label = 'batch_size'\n",
    "# x_label = 'hidden_dim'\n",
    "\n",
    "\n",
    "method = 'Cuda'\n",
    "method = 'Cuda-padding'\n",
    "# plt.plot(x, y_single)\n",
    "# plt.plot(x, y_openmp)\n",
    "# plt.legend(['single thread', 'openmp'])\n",
    "# plt.plot(x, y2_single)\n",
    "# plt.plot(x, y2_openmp)\n",
    "# plt.plot(x, y2_cuda)\n",
    "# plt.legend(['single thread', 'openmp', 'cuda'])\n",
    "# plt.plot(x, tmp)\n",
    "# plt.plot(x_cuda_padding, y_cuda_padding)\n",
    "plt.plot(x, tmp)\n",
    "plt.plot(x_batch_cuda, y_cuda)\n",
    "plt.legend(['cuda-padding', 'cuda'])\n",
    "# plt.title(f'{method} {title}')\n",
    "plt.title(f'{title}')\n",
    "plt.xlabel(x_label)\n",
    "plt.xscale(\"log\")\n",
    "plt.ylabel(\"Time\")\n",
    "plt.show()"
   ]
  },
  {
   "cell_type": "code",
   "execution_count": 184,
   "metadata": {},
   "outputs": [
    {
     "data": {
      "image/png": "[encoded data removed]",
      "text/plain": [
       "<Figure size 640x480 with 1 Axes>"
      ]
     },
     "metadata": {},
     "output_type": "display_data"
    }
   ],
   "source": [
    "y = [0.458, 1.1973519088700413]\n",
    "name = ['cuda', 'Pytorch']\n",
    "plt.bar(name, y, width=0.3)\n",
    "plt.show()"
   ]
  },
  {
   "cell_type": "code",
   "execution_count": 21,
   "metadata": {},
   "outputs": [
    {
     "data": {
      "image/png": "[encoded data removed]",
      "text/plain": [
       "<Figure size 640x480 with 1 Axes>"
      ]
     },
     "metadata": {},
     "output_type": "display_data"
    }
   ],
   "source": [
    "import matplotlib.pyplot as plt\n",
    "import numpy as np\n",
    "\n",
    "y1 = [6.576, 4.696, 4.708]\n",
    "y2 = [9.537, 6.318, 5.858]\n",
    "y3 = [36.847, 33.534, 30.538]\n",
    "y4 = [314.054, 313.181, 285.248]\n",
    "\n",
    "x = np.array([1, 2, 3])\n",
    "\n",
    "name = ['method 1', 'method 2', 'method 3']\n",
    "plt.title('time measured with different methods')\n",
    "plt.ylabel('ms')\n",
    "plt.xticks(x, name)\n",
    "plt.bar(x - 0.4, y1, width=0.2)\n",
    "plt.bar(x - 0.2, y2, width=0.2)\n",
    "plt.bar(x, y3, width=0.2)\n",
    "plt.bar(x + 0.2, y4, width=0.2)\n",
    "plt.yscale('log')\n",
    "plt.legend(['256', '1000', '10000', '100000'])\n",
    "plt.show()\n",
    "\n"
   ]
  },
  {
   "cell_type": "code",
   "execution_count": 22,
   "metadata": {},
   "outputs": [
    {
     "ename": "ValueError",
     "evalue": "Single argument to subplot must be a three-digit integer, not (1, 3)",
     "output_type": "error",
     "traceback": [
      "\u001b[0;31m---------------------------------------------------------------------------\u001b[0m",
      "\u001b[0;31mValueError\u001b[0m                                Traceback (most recent call last)",
      "Cell \u001b[0;32mIn[22], line 11\u001b[0m\n\u001b[1;32m      7\u001b[0m y4 \u001b[39m=\u001b[39m [\u001b[39m314.054\u001b[39m, \u001b[39m313.181\u001b[39m, \u001b[39m285.248\u001b[39m]\n\u001b[1;32m      9\u001b[0m x \u001b[39m=\u001b[39m np\u001b[39m.\u001b[39marray([\u001b[39m1\u001b[39m, \u001b[39m2\u001b[39m, \u001b[39m3\u001b[39m])\n\u001b[0;32m---> 11\u001b[0m ax1, ax2, ax3 \u001b[39m=\u001b[39m plt\u001b[39m.\u001b[39;49msubplot((\u001b[39m1\u001b[39;49m, \u001b[39m3\u001b[39;49m))\n\u001b[1;32m     13\u001b[0m name \u001b[39m=\u001b[39m [\u001b[39m'\u001b[39m\u001b[39mmethod 1\u001b[39m\u001b[39m'\u001b[39m, \u001b[39m'\u001b[39m\u001b[39mmethod 2\u001b[39m\u001b[39m'\u001b[39m, \u001b[39m'\u001b[39m\u001b[39mmethod 3\u001b[39m\u001b[39m'\u001b[39m]\n\u001b[1;32m     14\u001b[0m plt\u001b[39m.\u001b[39mtitle(\u001b[39m'\u001b[39m\u001b[39mtime measured with different methods\u001b[39m\u001b[39m'\u001b[39m)\n",
      "File \u001b[0;32m/usr/lib/python3/dist-packages/matplotlib/pyplot.py:1268\u001b[0m, in \u001b[0;36msubplot\u001b[0;34m(*args, **kwargs)\u001b[0m\n\u001b[1;32m   1265\u001b[0m fig \u001b[39m=\u001b[39m gcf()\n\u001b[1;32m   1267\u001b[0m \u001b[39m# First, search for an existing subplot with a matching spec.\u001b[39;00m\n\u001b[0;32m-> 1268\u001b[0m key \u001b[39m=\u001b[39m SubplotSpec\u001b[39m.\u001b[39;49m_from_subplot_args(fig, args)\n\u001b[1;32m   1270\u001b[0m \u001b[39mfor\u001b[39;00m ax \u001b[39min\u001b[39;00m fig\u001b[39m.\u001b[39maxes:\n\u001b[1;32m   1271\u001b[0m     \u001b[39m# if we found an axes at the position sort out if we can re-use it\u001b[39;00m\n\u001b[1;32m   1272\u001b[0m     \u001b[39mif\u001b[39;00m \u001b[39mhasattr\u001b[39m(ax, \u001b[39m'\u001b[39m\u001b[39mget_subplotspec\u001b[39m\u001b[39m'\u001b[39m) \u001b[39mand\u001b[39;00m ax\u001b[39m.\u001b[39mget_subplotspec() \u001b[39m==\u001b[39m key:\n\u001b[1;32m   1273\u001b[0m         \u001b[39m# if the user passed no kwargs, re-use\u001b[39;00m\n",
      "File \u001b[0;32m/usr/lib/python3/dist-packages/matplotlib/gridspec.py:582\u001b[0m, in \u001b[0;36mSubplotSpec._from_subplot_args\u001b[0;34m(figure, args)\u001b[0m\n\u001b[1;32m    580\u001b[0m     \u001b[39mreturn\u001b[39;00m arg\n\u001b[1;32m    581\u001b[0m \u001b[39melif\u001b[39;00m \u001b[39mnot\u001b[39;00m \u001b[39misinstance\u001b[39m(arg, Integral):\n\u001b[0;32m--> 582\u001b[0m     \u001b[39mraise\u001b[39;00m \u001b[39mValueError\u001b[39;00m(\n\u001b[1;32m    583\u001b[0m         \u001b[39mf\u001b[39m\u001b[39m\"\u001b[39m\u001b[39mSingle argument to subplot must be a three-digit \u001b[39m\u001b[39m\"\u001b[39m\n\u001b[1;32m    584\u001b[0m         \u001b[39mf\u001b[39m\u001b[39m\"\u001b[39m\u001b[39minteger, not \u001b[39m\u001b[39m{\u001b[39;00marg\u001b[39m!r}\u001b[39;00m\u001b[39m\"\u001b[39m)\n\u001b[1;32m    585\u001b[0m \u001b[39mtry\u001b[39;00m:\n\u001b[1;32m    586\u001b[0m     rows, cols, num \u001b[39m=\u001b[39m \u001b[39mmap\u001b[39m(\u001b[39mint\u001b[39m, \u001b[39mstr\u001b[39m(arg))\n",
      "\u001b[0;31mValueError\u001b[0m: Single argument to subplot must be a three-digit integer, not (1, 3)"
     ]
    },
    {
     "data": {
      "text/plain": [
       "<Figure size 640x480 with 0 Axes>"
      ]
     },
     "metadata": {},
     "output_type": "display_data"
    }
   ],
   "source": [
    "import matplotlib.pyplot as plt\n",
    "import numpy as np\n",
    "\n",
    "y1 = [6.576, 4.696, 4.708]\n",
    "y2 = [9.537, 6.318, 5.858]\n",
    "y3 = [36.847, 33.534, 30.538]\n",
    "y4 = [314.054, 313.181, 285.248]\n",
    "\n",
    "x = np.array([1, 2, 3])\n",
    "\n",
    "ax1, ax2, ax3 = plt.subplot((1, 3))\n",
    "\n",
    "name = ['method 1', 'method 2', 'method 3']\n",
    "plt.title('time measured with different methods')\n",
    "plt.ylabel('ms')\n",
    "plt.xticks(x, name)\n",
    "plt.bar(x - 0.4, y1, width=0.2)\n",
    "plt.bar(x - 0.2, y2, width=0.2)\n",
    "plt.bar(x, y3, width=0.2)\n",
    "plt.bar(x + 0.2, y4, width=0.2)\n",
    "plt.yscale('log')\n",
    "plt.legend(['256', '1000', '10000', '100000'])\n",
    "plt.show()\n",
    "\n"
   ]
  }
 ],
 "metadata": {
  "kernelspec": {
   "display_name": ".venv",
   "language": "python",
   "name": "python3"
  },
  "language_info": {
   "codemirror_mode": {
    "name": "ipython",
    "version": 3
   },
   "file_extension": ".py",
   "mimetype": "text/x-python",
   "name": "python",
   "nbconvert_exporter": "python",
   "pygments_lexer": "ipython3",
   "version": "3.10.6 (main, Nov 14 2022, 16:10:14) [GCC 11.3.0]"
  },
  "orig_nbformat": 4,
  "vscode": {
   "interpreter": {
    "hash": "4cc6f2556034b3689bccc75f6de2acad66eb06ddf3b8d47e96ead14c6d37cc43"
   }
  }
 },
 "nbformat": 4,
 "nbformat_minor": 2
}
