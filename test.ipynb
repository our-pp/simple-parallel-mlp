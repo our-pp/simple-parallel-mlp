{
 "cells": [
  {
   "cell_type": "code",
   "execution_count": 178,
   "metadata": {},
   "outputs": [
    {
     "name": "stdout",
     "output_type": "stream",
     "text": [
      "make -C src/singleThread\n",
      "make[1]: 進入目錄「/home/PP/PP-final/experiment/src/singleThread」\n",
      "make[1]: 對「all」無需做任何事。\n",
      "make[1]: 離開目錄「/home/PP/PP-final/experiment/src/singleThread」\n",
      "make -C src/cuda\n",
      "make[1]: 進入目錄「/home/PP/PP-final/experiment/src/cuda」\n",
      "make[1]: 對「all」無需做任何事。\n",
      "make[1]: 離開目錄「/home/PP/PP-final/experiment/src/cuda」\n",
      "make -C src/openmp\n",
      "make[1]: 進入目錄「/home/PP/PP-final/experiment/src/openmp」\n",
      "make[1]: 對「all」無需做任何事。\n",
      "make[1]: 離開目錄「/home/PP/PP-final/experiment/src/openmp」\n",
      "make -C src\n",
      "make[1]: 進入目錄「/home/PP/PP-final/experiment/src」\n",
      "make[1]: 對「all」無需做任何事。\n",
      "make[1]: 離開目錄「/home/PP/PP-final/experiment/src」\n",
      "train size: 60000\n"
     ]
    },
    {
     "name": "stderr",
     "output_type": "stream",
     "text": [
      "  0%|          | 0/21 [00:00<?, ?it/s]"
     ]
    },
    {
     "name": "stdout",
     "output_type": "stream",
     "text": [
      "1 Load 60000 training data\n",
      "Epoch 1: Loss: 0.503992, accuracy: 0.000000\n",
      "Epoch 2: Loss: 0.503294, accuracy: 0.000000\n",
      "Epoch 3: Loss: 0.503247, accuracy: 0.000000\n",
      "time: 36.5887 sec\n",
      "\n"
     ]
    },
    {
     "name": "stderr",
     "output_type": "stream",
     "text": [
      "  5%|▍         | 1/21 [01:51<37:01, 111.05s/it]"
     ]
    },
    {
     "name": "stdout",
     "output_type": "stream",
     "text": [
      "2 Load 60000 training data\n",
      "Epoch 1: Loss: 0.185926, accuracy: 0.000000\n",
      "Epoch 2: Loss: 0.169913, accuracy: 0.000000\n",
      "Epoch 3: Loss: 0.161766, accuracy: 0.000000\n",
      "time: 18.3951 sec\n",
      "\n"
     ]
    },
    {
     "name": "stderr",
     "output_type": "stream",
     "text": [
      " 10%|▉         | 2/21 [02:47<24:59, 78.93s/it] "
     ]
    },
    {
     "name": "stdout",
     "output_type": "stream",
     "text": [
      "4 Load 60000 training data\n",
      "Epoch 1: Loss: 0.558017, accuracy: 0.000000\n",
      "Epoch 2: Loss: 0.568090, accuracy: 0.000000\n",
      "Epoch 3: Loss: 0.563584, accuracy: 0.000000\n",
      "time: 9.3205 sec\n",
      "\n"
     ]
    },
    {
     "name": "stderr",
     "output_type": "stream",
     "text": [
      " 14%|█▍        | 3/21 [03:16<16:51, 56.22s/it]"
     ]
    },
    {
     "name": "stdout",
     "output_type": "stream",
     "text": [
      "6 Load 60000 training data\n",
      "Epoch 1: Loss: 0.471214, accuracy: 0.000000\n",
      "Epoch 2: Loss: 0.458043, accuracy: 0.000000\n",
      "Epoch 3: Loss: 0.450797, accuracy: 0.000000\n",
      "time: 6.4228 sec\n",
      "\n"
     ]
    },
    {
     "name": "stderr",
     "output_type": "stream",
     "text": [
      " 19%|█▉        | 4/21 [03:37<11:56, 42.12s/it]"
     ]
    },
    {
     "name": "stdout",
     "output_type": "stream",
     "text": [
      "8 Load 60000 training data\n",
      "Epoch 1: Loss: 0.548070, accuracy: 0.000000\n",
      "Epoch 2: Loss: 0.542042, accuracy: 0.000000\n",
      "Epoch 3: Loss: 0.539592, accuracy: 0.000000\n",
      "time: 5.1065 sec\n",
      "\n"
     ]
    },
    {
     "name": "stderr",
     "output_type": "stream",
     "text": [
      " 24%|██▍       | 5/21 [03:53<08:47, 32.95s/it]"
     ]
    },
    {
     "name": "stdout",
     "output_type": "stream",
     "text": [
      "10 Load 60000 training data\n",
      "Epoch 1: Loss: 0.474437, accuracy: 0.000000\n",
      "Epoch 2: Loss: 0.474094, accuracy: 0.000000\n",
      "Epoch 3: Loss: 0.472310, accuracy: 0.000000\n",
      "time: 4.4764 sec\n",
      "\n"
     ]
    },
    {
     "name": "stderr",
     "output_type": "stream",
     "text": [
      " 29%|██▊       | 6/21 [04:08<06:40, 26.73s/it]"
     ]
    },
    {
     "name": "stdout",
     "output_type": "stream",
     "text": [
      "12 Load 60000 training data\n",
      "Epoch 1: Loss: 0.484238, accuracy: 0.000000\n",
      "Epoch 2: Loss: 0.483472, accuracy: 0.000000\n",
      "Epoch 3: Loss: 0.481478, accuracy: 0.000000\n",
      "time: 4.0534 sec\n",
      "\n"
     ]
    },
    {
     "name": "stderr",
     "output_type": "stream",
     "text": [
      " 33%|███▎      | 7/21 [04:21<05:13, 22.38s/it]"
     ]
    },
    {
     "name": "stdout",
     "output_type": "stream",
     "text": [
      "14 Load 60000 training data\n",
      "Epoch 1: Loss: 0.657321, accuracy: 0.000000\n",
      "Epoch 2: Loss: 0.656056, accuracy: 0.000000\n",
      "Epoch 3: Loss: 0.653103, accuracy: 0.000000\n",
      "time: 3.7698 sec\n",
      "\n"
     ]
    },
    {
     "name": "stderr",
     "output_type": "stream",
     "text": [
      " 38%|███▊      | 8/21 [04:34<04:10, 19.28s/it]"
     ]
    },
    {
     "name": "stdout",
     "output_type": "stream",
     "text": [
      "16 Load 60000 training data\n",
      "Epoch 1: Loss: 0.521228, accuracy: 0.000000\n",
      "Epoch 2: Loss: 0.517963, accuracy: 0.000000\n",
      "Epoch 3: Loss: 0.515527, accuracy: 0.000000\n",
      "time: 3.5445 sec\n",
      "\n"
     ]
    },
    {
     "name": "stderr",
     "output_type": "stream",
     "text": [
      " 43%|████▎     | 9/21 [04:46<03:23, 16.97s/it]"
     ]
    },
    {
     "name": "stdout",
     "output_type": "stream",
     "text": [
      "32 Load 60000 training data\n",
      "Epoch 1: Loss: 0.571922, accuracy: 0.000000\n",
      "Epoch 2: Loss: 0.570396, accuracy: 0.000000\n",
      "Epoch 3: Loss: 0.568564, accuracy: 0.000000\n",
      "time: 3.8216 sec\n",
      "\n"
     ]
    },
    {
     "name": "stderr",
     "output_type": "stream",
     "text": [
      " 48%|████▊     | 10/21 [04:59<02:52, 15.68s/it]"
     ]
    },
    {
     "name": "stdout",
     "output_type": "stream",
     "text": [
      "64 Load 60000 training data\n",
      "Epoch 1: Loss: 0.399004, accuracy: 0.000000\n",
      "Epoch 2: Loss: 0.394544, accuracy: 0.000000\n",
      "Epoch 3: Loss: 0.394649, accuracy: 0.000000\n",
      "time: 2.5465 sec\n",
      "\n"
     ]
    },
    {
     "name": "stderr",
     "output_type": "stream",
     "text": [
      " 52%|█████▏    | 11/21 [05:08<02:16, 13.63s/it]"
     ]
    },
    {
     "name": "stdout",
     "output_type": "stream",
     "text": [
      "128 Load 60000 training data\n",
      "Epoch 1: Loss: 0.392356, accuracy: 0.000000\n",
      "Epoch 2: Loss: 0.380076, accuracy: 0.000000\n",
      "Epoch 3: Loss: 0.367896, accuracy: 0.000000\n",
      "time: 1.9410 sec\n",
      "\n"
     ]
    },
    {
     "name": "stderr",
     "output_type": "stream",
     "text": [
      " 57%|█████▋    | 12/21 [05:15<01:44, 11.64s/it]"
     ]
    },
    {
     "name": "stdout",
     "output_type": "stream",
     "text": [
      "256 Load 60000 training data\n",
      "Epoch 1: Loss: 0.461697, accuracy: 0.000000\n",
      "Epoch 2: Loss: 0.453001, accuracy: 0.000000\n",
      "Epoch 3: Loss: 0.439914, accuracy: 0.000000\n",
      "time: 1.7387 sec\n",
      "\n"
     ]
    },
    {
     "name": "stderr",
     "output_type": "stream",
     "text": [
      " 62%|██████▏   | 13/21 [05:21<01:20, 10.10s/it]"
     ]
    },
    {
     "name": "stdout",
     "output_type": "stream",
     "text": [
      "512 Load 60000 training data\n",
      "Epoch 1: Loss: 0.656829, accuracy: 0.000000\n",
      "Epoch 2: Loss: 0.658663, accuracy: 0.000000\n",
      "Epoch 3: Loss: 0.658943, accuracy: 0.000000\n",
      "time: 1.4922 sec\n",
      "\n"
     ]
    },
    {
     "name": "stderr",
     "output_type": "stream",
     "text": [
      " 67%|██████▋   | 14/21 [05:27<01:01,  8.81s/it]"
     ]
    },
    {
     "name": "stdout",
     "output_type": "stream",
     "text": [
      "768 Load 60000 training data\n",
      "Epoch 1: Loss: 0.259951, accuracy: 0.000000\n",
      "Epoch 2: Loss: 0.260240, accuracy: 0.000000\n",
      "Epoch 3: Loss: 0.259872, accuracy: 0.000000\n",
      "time: 1.4052 sec\n",
      "\n"
     ]
    },
    {
     "name": "stderr",
     "output_type": "stream",
     "text": [
      " 71%|███████▏  | 15/21 [05:33<00:46,  7.81s/it]"
     ]
    },
    {
     "name": "stdout",
     "output_type": "stream",
     "text": [
      "896 Load 60000 training data\n",
      "Epoch 1: Loss: 0.337495, accuracy: 0.000000\n",
      "Epoch 2: Loss: 0.337466, accuracy: 0.000000\n",
      "Epoch 3: Loss: 0.337468, accuracy: 0.000000\n",
      "time: 1.3645 sec\n",
      "\n"
     ]
    },
    {
     "name": "stderr",
     "output_type": "stream",
     "text": [
      " 76%|███████▌  | 16/21 [05:38<00:35,  7.06s/it]"
     ]
    },
    {
     "name": "stdout",
     "output_type": "stream",
     "text": [
      "1024 Load 60000 training data\n",
      "Epoch 1: Loss: 0.187662, accuracy: 0.000000\n",
      "Epoch 2: Loss: 0.182184, accuracy: 0.000000\n",
      "Epoch 3: Loss: 0.182184, accuracy: 0.000000\n",
      "time: 1.3548 sec\n",
      "\n"
     ]
    },
    {
     "name": "stderr",
     "output_type": "stream",
     "text": [
      " 81%|████████  | 17/21 [05:43<00:26,  6.54s/it]"
     ]
    },
    {
     "name": "stdout",
     "output_type": "stream",
     "text": [
      "1280 Load 60000 training data\n",
      "Epoch 1: Loss: 0.494891, accuracy: 0.000000\n",
      "Epoch 2: Loss: 0.498107, accuracy: 0.000000\n",
      "Epoch 3: Loss: 0.498105, accuracy: 0.000000\n",
      "time: 1.3347 sec\n",
      "\n"
     ]
    },
    {
     "name": "stderr",
     "output_type": "stream",
     "text": [
      " 86%|████████▌ | 18/21 [05:49<00:18,  6.15s/it]"
     ]
    },
    {
     "name": "stdout",
     "output_type": "stream",
     "text": [
      "1536 Load 60000 training data\n",
      "Epoch 1: Loss: 0.501623, accuracy: 0.000000\n",
      "Epoch 2: Loss: 0.500672, accuracy: 0.000000\n",
      "Epoch 3: Loss: 0.501181, accuracy: 0.000000\n",
      "time: 1.3693 sec\n",
      "\n"
     ]
    },
    {
     "name": "stderr",
     "output_type": "stream",
     "text": [
      " 90%|█████████ | 19/21 [05:54<00:11,  5.95s/it]"
     ]
    },
    {
     "name": "stdout",
     "output_type": "stream",
     "text": [
      "2048 Load 60000 training data\n",
      "Epoch 1: Loss: 0.420856, accuracy: 0.000000\n",
      "Epoch 2: Loss: 0.420939, accuracy: 0.000000\n",
      "Epoch 3: Loss: 0.420946, accuracy: 0.000000\n",
      "time: 1.3584 sec\n",
      "\n"
     ]
    },
    {
     "name": "stderr",
     "output_type": "stream",
     "text": [
      " 95%|█████████▌| 20/21 [05:59<00:05,  5.76s/it]"
     ]
    },
    {
     "name": "stdout",
     "output_type": "stream",
     "text": [
      "4096 Load 60000 training data\n",
      "Epoch 1: Loss: 0.497558, accuracy: 0.000000\n",
      "Epoch 2: Loss: 0.502731, accuracy: 0.000000\n",
      "Epoch 3: Loss: 0.502731, accuracy: 0.000000\n",
      "time: 1.3527 sec\n",
      "\n"
     ]
    },
    {
     "name": "stderr",
     "output_type": "stream",
     "text": [
      "100%|██████████| 21/21 [06:05<00:00, 17.39s/it]\n"
     ]
    }
   ],
   "source": [
    "import os, time\n",
    "import matplotlib.pyplot as plt\n",
    "from tqdm import tqdm\n",
    "\n",
    "# batch_size = [32, 64, 128, 256, 512, 1024, 2048, 4096, 4096+2048, 8192, 8192+2048, 8192+4096, 8192+4096+2048, 16384]\n",
    "batch_size = [16, 32, 64, 128]\n",
    "batch_size = [1, 2, 4, 6, 8, 10, 12, 14, 16, 32, 64, 128, 256, 512, 768, 896, 1024, 1280, 1536, 2048, 4096]\n",
    "# batch_size = [32, 64, 128, 256, 512, 1024, 2048, 4096, 6144, 8192, 10240, 12288, 14336, 16384]\n",
    "# batch_size = [1, 2, 4, 6, 8, 10, 12, 14, 16]\n",
    "# batch_size = [512, 512+256, 512+256+128, 1024, 1024+256, 1024+512, 2048, 4096]\n",
    "# batch_size = [4096, 4096+512, 4096+1024, 4096+1024+512, 4096+2048, 4096+2048+512, 4096+2048+1024, 4096+2048+1024+512, 6144]\n",
    "# batch_size = range(1, 17)\n",
    "# batch_size = [1, 2, 4, 6, 8, 10, 12, 14, 16, 32, 64, 128]\n",
    "# batch_size = [1, 2, 4, 6, 8, 10, 12, 14, 16]\n",
    "# batch_size = [1, 2, 4, 6, 8, 10, 12, 14, 16]\n",
    "# hidden_dim = [2, 4, 6, 8, 50, 100, 200, 300, 400]\n",
    "hidden_dim = [2, 4, 6, 8, 50, 100, 200, 300, 400, 500, 600, 800]\n",
    "\n",
    "train_size = [60000]\n",
    "y1, y2 = [], []\n",
    "\n",
    "def iter_batch(method) -> None:\n",
    "    for train in train_size:\n",
    "        print(f'train size: {train}')\n",
    "        for batch in tqdm(batch_size):\n",
    "            sec = os.popen(f'echo -1 | ./bin/{method} -b {batch} -h 1000 -t {train}').read()\n",
    "            print(batch, sec)\n",
    "            y1.append(float(sec.splitlines()[-1].split()[1]))\n",
    "            time.sleep(1)\n",
    "\n",
    "def iter_hidden(method) -> None:\n",
    "    for train in train_size:\n",
    "        print(f'train size: {train}')\n",
    "        for hidden in tqdm(hidden_dim):\n",
    "            sec = os.popen(f'echo -1 | ./bin/{method} -b 1024 -h {hidden} -t {train}').read()\n",
    "            print(hidden, sec)\n",
    "            y2.append(float(sec.splitlines()[-1].split()[1]))\n",
    "            time.sleep(1)\n",
    "\n",
    "method = 'cuda-padding'\n",
    "# method = 'cuda'\n",
    "def main() -> None:\n",
    "    os.system('make')\n",
    "    y1, y2 = [], []\n",
    "    iter_batch(method)\n",
    "    # iter_hidden(method)\n",
    "\n",
    "main()"
   ]
  },
  {
   "cell_type": "code",
   "execution_count": null,
   "metadata": {},
   "outputs": [],
   "source": []
  },
  {
   "cell_type": "code",
   "execution_count": 179,
   "metadata": {},
   "outputs": [
    {
     "name": "stdout",
     "output_type": "stream",
     "text": [
      "[1, 2, 4, 6, 8, 10, 12, 14, 16, 32, 64, 128, 256, 512, 768, 896, 1024, 1280, 1536, 2048, 4096]\n",
      "[36.5887, 18.3951, 9.3205, 6.4228, 5.1065, 4.4764, 4.0534, 3.7698, 3.5445, 3.8216, 2.5465, 1.941, 1.7387, 1.4922, 1.4052, 1.3645, 1.3548, 1.3347, 1.3693, 1.3584, 1.3527]\n",
      "[14.9933, 7.5855, 3.8487, 2.6167, 1.9991, 1.7072, 1.6173, 1.5821, 1.8212, 2.0742, 1.0502, 0.5828, 0.4941, 0.4736, 0.4615, 0.4897, 0.4577, 0.4546, 0.4614, 0.4513, 0.4386]\n",
      "[1, 2, 4, 6, 8, 10, 12, 14, 16, 32, 64, 128, 256, 512, 768, 896, 1024, 1280, 1536, 2048, 4096]\n"
     ]
    },
    {
     "data": {
      "image/png": "[encoded data removed]",
      "text/plain": [
       "<Figure size 640x480 with 1 Axes>"
      ]
     },
     "metadata": {},
     "output_type": "display_data"
    }
   ],
   "source": [
    "x = batch_size\n",
    "# x = hidden_dim\n",
    "tmp = list(map(float, y1))\n",
    "# tmp = list(map(float, y2))\n",
    "print(x)\n",
    "print(tmp)\n",
    "tmp\n",
    "y_single = [8.2914, 6.8104, 6.2942, 5.8287, 5.6881, 5.6232, 5.5838, 5.5464, 5.4985]\n",
    "y_openmp = [13.2646, 7.1864, 4.0325, 3.2439, 2.4958, 2.2116, 2.1367, 2.1544, 2.0634]\n",
    "y_cuda = [14.7442, 7.2573, 3.7575, 2.5298, 1.9832, 1.8857, 1.7688, 1.6317, 1.5852, 1.4055, 1.0349, 0.5631, 0.5185, 0.4656, 0.458, 0.4546, 0.4422, 0.4441, 0.4451, 0.4433, 0.4441, 0.4438, 0.4433]\n",
    "x_batch_cuda = [1, 2, 4, 6, 8, 10, 12, 14, 16, 32, 64, 128, 256, 512, 1024, 2048, 4096, 6144, 8192, 10240, 12288, 14336, 16384]\n",
    "# y_cuda_compare = [1.4055, 1.0349, 0.5631, 0.5185, 0.4656, 0.458, 0.4546, 0.4422, 0.4441, 0.4451, 0.4433, 0.4441, 0.4438, 0.4433]\n",
    "y_cuda_compare = [2.0395, 1.0342, 0.5516, 0.5098, 0.4708, 0.4546, 0.4502, 0.4382, 0.4408, 0.441, 0.4382, 0.4389, 0.4387, 0.4385]\n",
    "x_batch_cuda_compare = [32, 64, 128, 256, 512, 1024, 2048, 4096, 6144, 8192, 10240, 12288, 14336, 16384]\n",
    "\n",
    "y_cuda_padding = [14.9933, 7.5855, 3.8487, 2.6167, 1.9991, 1.7072, 1.6173, 1.5821, 1.8212, 2.0742, 1.0502, 0.5828, 0.4941, 0.4736, 0.4615, 0.4897, 0.4577, 0.4546, 0.4614, 0.4513, 0.4386]\n",
    "x_cuda_padding = [1, 2, 4, 6, 8, 10, 12, 14, 16, 32, 64, 128, 256, 512, 768, 896, 1024, 1280, 1536, 2048, 4096]\n",
    "\n",
    "print(y_cuda_padding)\n",
    "print(x_cuda_padding)\n",
    "\n",
    "x_hidden = hidden_dim\n",
    "y2_single = [0.0438, 0.0779, 0.234, 0.1486, 0.8892, 1.7812, 3.6052, 5.322, 7.137, 8.8835, 10.6876, 17.4514]\n",
    "y2_openmp = [0.0391, 0.0282, 0.037, 0.0467, 0.2729, 0.543, 1.0915, 1.5711, 2.0041, 2.5293, 3.031, 3.9712]\n",
    "y2_cuda = [0.0231, 0.0267, 0.0283, 0.0311, 0.1165, 0.2206, 0.3348, 0.456, 0.5851, 0.7242, 0.915, 1.2584]\n",
    "\n",
    "title = 'Batch Size'\n",
    "# title = 'Hidden Dimension'\n",
    "x_label = 'batch_size'\n",
    "# x_label = 'hidden_dim'\n",
    "\n",
    "\n",
    "method = 'Cuda'\n",
    "method = 'Cuda-padding'\n",
    "# plt.plot(x, y_single)\n",
    "# plt.plot(x, y_openmp)\n",
    "# plt.legend(['single thread', 'openmp'])\n",
    "# plt.plot(x, y2_single)\n",
    "# plt.plot(x, y2_openmp)\n",
    "# plt.plot(x, y2_cuda)\n",
    "# plt.legend(['single thread', 'openmp', 'cuda'])\n",
    "# plt.plot(x, tmp)\n",
    "# plt.plot(x_cuda_padding, y_cuda_padding)\n",
    "plt.plot(x, tmp)\n",
    "plt.plot(x_batch_cuda, y_cuda)\n",
    "plt.legend(['cuda-padding', 'cuda'])\n",
    "# plt.title(f'{method} {title}')\n",
    "plt.title(f'{title}')\n",
    "plt.xlabel(x_label)\n",
    "plt.xscale(\"log\")\n",
    "plt.ylabel(\"Time\")\n",
    "plt.show()"
   ]
  },
  {
   "cell_type": "code",
   "execution_count": 181,
   "metadata": {},
   "outputs": [
    {
     "data": {
      "image/png": "[encoded data removed]",
      "text/plain": [
       "<Figure size 640x480 with 1 Axes>"
      ]
     },
     "metadata": {},
     "output_type": "display_data"
    }
   ],
   "source": [
    "y = [0.458, 1.1973519088700413]\n",
    "name = ['cuda', 'Pytorch']\n",
    "plt.bar(name, y, width=0.3)\n",
    "plt.show()"
   ]
  }
 ],
 "metadata": {
  "kernelspec": {
   "display_name": "Brian",
   "language": "python",
   "name": "brian"
  },
  "orig_nbformat": 4,
  "vscode": {
   "interpreter": {
    "hash": "4cc6f2556034b3689bccc75f6de2acad66eb06ddf3b8d47e96ead14c6d37cc43"
   }
  }
 },
 "nbformat": 4,
 "nbformat_minor": 2
}
